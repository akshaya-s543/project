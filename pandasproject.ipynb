{
  "nbformat": 4,
  "nbformat_minor": 0,
  "metadata": {
    "colab": {
      "provenance": [],
      "authorship_tag": "ABX9TyMuGdqoQ4Mv/J4891xt+N3d",
      "include_colab_link": true
    },
    "kernelspec": {
      "name": "python3",
      "display_name": "Python 3"
    },
    "language_info": {
      "name": "python"
    }
  },
  "cells": [
    {
      "cell_type": "markdown",
      "metadata": {
        "id": "view-in-github",
        "colab_type": "text"
      },
      "source": [
        "<a href=\"https://colab.research.google.com/github/akshaya-s543/project/blob/main/pandasproject.ipynb\" target=\"_parent\"><img src=\"https://colab.research.google.com/assets/colab-badge.svg\" alt=\"Open In Colab\"/></a>"
      ]
    },
    {
      "cell_type": "code",
      "execution_count": null,
      "metadata": {
        "colab": {
          "base_uri": "https://localhost:8080/"
        },
        "id": "WigrkHeh-UVz",
        "outputId": "e98ea2a5-5163-4266-9cc1-919324bfbdec"
      },
      "outputs": [
        {
          "output_type": "stream",
          "name": "stderr",
          "text": [
            "/tmp/ipython-input-17-3116781075.py:32: FutureWarning: Downcasting object dtype arrays on .fillna, .ffill, .bfill is deprecated and will change in a future version. Call result.infer_objects(copy=False) instead. To opt-in to the future behavior, set `pd.set_option('future.no_silent_downcasting', True)`\n",
            "  df['Subscribed'] = df['Subscribed'].fillna(False)\n"
          ]
        }
      ],
      "source": [
        "import pandas as pd\n",
        "\n",
        "# Load the dataset\n",
        "df = pd.read_csv(\"unclean_customer_data.csv\")\n",
        "df.isnull().sum()\n",
        "df = df.drop_duplicates()\n",
        "df['Age'] = pd.to_numeric(df['Age'], errors='coerce')\n",
        "df['Age'] = df['Age'].fillna(df['Age'].median())\n",
        "df['Gender'] = df['Gender'].str.lower().map({\n",
        "    'male': 'Male', 'm': 'Male',\n",
        "    'female': 'Female', 'f': 'Female', 'fem': 'Female'\n",
        "})\n",
        "df['Gender'] = df['Gender'].fillna('Unknown')\n",
        "df['Email'] = df['Email'].fillna('')\n",
        "df['Email'] = df['Email'].apply(lambda x: x if '@' in str(x) and '.' in str(x) else None)\n",
        "df['Purchase_Amount'] = df['Purchase_Amount'].astype(str).str.replace(r'[^0-9.]', '', regex=True)\n",
        "df['Purchase_Amount'] = pd.to_numeric(df['Purchase_Amount'], errors='coerce')\n",
        "df['Purchase_Amount'] = df['Purchase_Amount'].fillna(df['Purchase_Amount'].median())\n",
        "df['Purchase_Date'] = pd.to_datetime(df['Purchase_Date'], errors='coerce', dayfirst=True)\n",
        "df = df[df['Purchase_Date'] <= pd.Timestamp.today()]\n",
        "country_map = {\n",
        "    'ind': 'India', 'IN': 'India',\n",
        "    'US': 'United States', 'U.S.A.': 'United States',\n",
        "    'ger': 'Germany'\n",
        "}\n",
        "df['Country'] = df['Country'].replace(country_map)\n",
        "df['Country'] = df['Country'].fillna('Unknown')\n",
        "df['Subscribed'] = df['Subscribed'].map({\n",
        "    'yes': True, 1: True,\n",
        "    'no': False, 0: False\n",
        "})\n",
        "df['Subscribed'] = df['Subscribed'].fillna(False)\n",
        "# Drop if too many missing\n",
        "# df.drop(columns=['Feedback'], inplace=True)\n",
        "\n",
        "# Or fill empty feedbacks\n",
        "df['Feedback'] = df['Feedback'].fillna('No feedback provided')\n",
        "df.to_csv(\"cleaned_customer_data.csv\", index=False)\n",
        "\n",
        "\n",
        "\n",
        "\n",
        "\n",
        "\n",
        "\n",
        "\n",
        "\n"
      ]
    }
  ]
}